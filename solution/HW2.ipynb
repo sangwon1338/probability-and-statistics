{
 "cells": [
  {
   "cell_type": "markdown",
   "metadata": {},
   "source": [
    "# Homework 2\n"
   ]
  },
  {
   "cell_type": "code",
   "execution_count": 1,
   "metadata": {},
   "outputs": [],
   "source": [
    "from scipy.stats import binom\n",
    "from scipy.stats import norm\n",
    "\n",
    "import matplotlib.pyplot as plt\n",
    "import numpy as np "
   ]
  },
  {
   "cell_type": "markdown",
   "metadata": {},
   "source": [
    "#### 1.\t김포국제공항에서 비행기 승객이 짐을 수화물로 보낼 확률은 70%이고 서로 독립이라고 가정하자. 16명의 승객이 김포국제공항에서 대기하고 있다. 다음의 확률을 계산하라.\n",
    "#### (a) 16명 승객 모두 짐을 수화물로 보낼 확률"
   ]
  },
  {
   "cell_type": "code",
   "execution_count": 2,
   "metadata": {},
   "outputs": [
    {
     "data": {
      "text/plain": [
       "0.0033232930569600965"
      ]
     },
     "execution_count": 2,
     "metadata": {},
     "output_type": "execute_result"
    }
   ],
   "source": [
    "binom.pmf(16,16,0.7)"
   ]
  },
  {
   "cell_type": "markdown",
   "metadata": {},
   "source": [
    "#### (b) 10명 미만의 승객이 짐을 수화물로 보낼 확률"
   ]
  },
  {
   "cell_type": "code",
   "execution_count": 3,
   "metadata": {},
   "outputs": [
    {
     "data": {
      "text/plain": [
       "0.17531336930687574"
      ]
     },
     "execution_count": 3,
     "metadata": {},
     "output_type": "execute_result"
    }
   ],
   "source": [
    "sum(binom.pmf([0,1,2,3,4,5,6,7,8,9],16,0.7))"
   ]
  },
  {
   "cell_type": "markdown",
   "metadata": {},
   "source": [
    "#### (c)\t적어도 10명이 수화물로 보낼 확률"
   ]
  },
  {
   "cell_type": "code",
   "execution_count": 4,
   "metadata": {},
   "outputs": [
    {
     "data": {
      "text/plain": [
       "0.8246866306931242"
      ]
     },
     "execution_count": 4,
     "metadata": {},
     "output_type": "execute_result"
    }
   ],
   "source": [
    "1-sum(binom.pmf([0,1,2,3,4,5,6,7,8,9],16,0.7))"
   ]
  },
  {
   "cell_type": "markdown",
   "metadata": {},
   "source": [
    "#### 2.\t1981년에 조지프 슐리츠 양조회사는 쇠락해가는 브랜드를 되살리기 위해 170만 달러를 들여 과감한 마케팅 행사를 열었다. NFL 수퍼볼 하프타임에 자사의 맥주와 주요 경쟁사인 미켈롭 맥주의 맛을 겨루는 블라인드 테스트를 생방송으로 내보냈다. 미켈롭 등 경쟁 브랜드의 맥주를 즐겨마시는 소비자 100명을 대상으로 그들이 좋아하는 맥주와 슐리츠 맥주를 두고 블라인드 테스트가 진행됬다. 소비자가 슐리츠를 선택할 확률이 50%로 동일하고 서로 독립적이라고 가정하자. (슐리츠가 속한 제품군에 있는 맥주들은 대부분 맛이 비슷하므로 일반인들은 구분하지 못한다는 가정)\n",
    "\n",
    "<img src=\"http://www.beerforum.co.kr/files/attach/images/1554/847/059/754fbaa1b034753f55bb961ca06d97ad.jpg\" width=300>\n",
    "<img src=\"http://dc.koreatimes.com/photos/LosAngeles/20031004/mr.jpg\" width=300>\n",
    "\n",
    "#### (a)\t만약 100명의 테스트 참가자 중에서 적어도 40%가 슐리츠를 고르면 슐리츠 사가 만족했을 거라고 가정해보자. (미켈롭을 좋아하는 소비자의 40%가 슐리츠를 선택했다니!!) 슐리츠 사가 만족할 확률은? "
   ]
  },
  {
   "cell_type": "code",
   "execution_count": 5,
   "metadata": {},
   "outputs": [
    {
     "data": {
      "text/plain": [
       "0.9823998998911191"
      ]
     },
     "execution_count": 5,
     "metadata": {},
     "output_type": "execute_result"
    }
   ],
   "source": [
    "sum(binom.pmf(np.linspace(40,100,61),100,0.5))"
   ]
  },
  {
   "cell_type": "markdown",
   "metadata": {},
   "source": [
    "#### (b)\t만약 테스트 참가자가 500명이라면 슐리츠 사가 만족할 확률은?\n"
   ]
  },
  {
   "cell_type": "code",
   "execution_count": 6,
   "metadata": {},
   "outputs": [
    {
     "data": {
      "text/plain": [
       "0.9999999999998962"
      ]
     },
     "execution_count": 6,
     "metadata": {},
     "output_type": "execute_result"
    }
   ],
   "source": [
    "sum(binom.pmf(np.linspace(40,500,461),500,0.5))"
   ]
  },
  {
   "cell_type": "markdown",
   "metadata": {},
   "source": [
    "#### 3. TV로 방송되는 프로미식축구의 평균 작전타임 시간은 정규분포로서 평균이 84초이고 표준편차는 10초이다. 어떤 방송국이 90초의 광고시간을 갖고 있다면, 광고가 끝나기 전에 경기가 다시 시작될 확률은? "
   ]
  },
  {
   "cell_type": "code",
   "execution_count": 7,
   "metadata": {},
   "outputs": [
    {
     "data": {
      "text/plain": [
       "0.7257468822499265"
      ]
     },
     "execution_count": 7,
     "metadata": {},
     "output_type": "execute_result"
    }
   ],
   "source": [
    "norm.cdf(90,84,10)"
   ]
  },
  {
   "cell_type": "markdown",
   "metadata": {},
   "source": [
    "#### 4. 콜로라도에서 잡히는 송어의 길이는 정규분포를 따르고 평균이 12.5인치이고 표준편차는 1.2인치이다. 잡히는 송어의 80%를 집에 가져가고 나머지는 다시 방류하게 하려면, 담당 부서에서 허용하는 최소 송어의 길이는?"
   ]
  },
  {
   "cell_type": "code",
   "execution_count": 8,
   "metadata": {},
   "outputs": [
    {
     "data": {
      "text/plain": [
       "11.490054519712503"
      ]
     },
     "execution_count": 8,
     "metadata": {},
     "output_type": "execute_result"
    }
   ],
   "source": [
    "norm.ppf(0.2,12.5,1.2)"
   ]
  }
 ],
 "metadata": {
  "kernelspec": {
   "display_name": "Python 3",
   "language": "python",
   "name": "python3"
  },
  "language_info": {
   "codemirror_mode": {
    "name": "ipython",
    "version": 3
   },
   "file_extension": ".py",
   "mimetype": "text/x-python",
   "name": "python",
   "nbconvert_exporter": "python",
   "pygments_lexer": "ipython3",
   "version": "3.6.7"
  }
 },
 "nbformat": 4,
 "nbformat_minor": 4
}
